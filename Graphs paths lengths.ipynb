{
 "cells": [
  {
   "cell_type": "code",
   "execution_count": 1,
   "metadata": {},
   "outputs": [],
   "source": [
    "import numpy as np\n",
    "import networkx as nx\n",
    "import matplotlib.pyplot as plt"
   ]
  },
  {
   "cell_type": "code",
   "execution_count": 2,
   "metadata": {},
   "outputs": [],
   "source": [
    "def grafgen(M):\n",
    "    U = [ \"{}\".format(int(i+1)) for i in range(M.shape[0]) ]\n",
    "    G = nx.DiGraph()\n",
    "    G.add_edges_from([ (U[i], U[j]) for i, j in zip(*M.nonzero()) ])\n",
    "    pos = nx.spring_layout(G)\n",
    "    plt.figure()    \n",
    "    nx.draw(G, pos, edge_color = 'black', width = 1, linewidths =1 ,\\\n",
    "    node_size = 900, node_color = 'pink', alpha = 0.9,\\\n",
    "    labels = {node:node for node in G.nodes()})\n",
    "    for i, j in zip(*M.nonzero()):\n",
    "        #G.add_edge(U[i], U[j], weight=M[i][j], type=\"green\")\n",
    "        nx.draw_networkx_edge_labels(G,pos,edge_labels={(U[i], U[j]): str(M[i][j])})\n",
    "    \n",
    "    \n",
    "    plt.axis('off')\n",
    "    plt.show()\n",
    "    \n",
    "def paths(k):\n",
    "    pathsQuantity = 0 \n",
    "    for i in range(len(np.linalg.eig(mat)[0])):\n",
    "        pathsQuantity += (sum(eigs[i])) ** 2 * np.linalg.eig(mat)[0][i] ** k\n",
    "    return pathsQuantity  "
   ]
  },
  {
   "cell_type": "code",
   "execution_count": 3,
   "metadata": {},
   "outputs": [
    {
     "name": "stdout",
     "output_type": "stream",
     "text": [
      "0 1 1 0\n",
      "0 0 1 1\n",
      "1 0 0 0\n",
      "1 0 0 0\n",
      "[[0. 1. 1. 0.]\n",
      " [0. 0. 1. 1.]\n",
      " [1. 0. 0. 0.]\n",
      " [1. 0. 0. 0.]]\n"
     ]
    }
   ],
   "source": [
    "#Take matrix size from first row input\n",
    "\n",
    "firstRow = input().split(\" \")\n",
    "n = len(firstRow)\n",
    "\n",
    "#initialise nxn matrix with zeroes\n",
    "mat = np.zeros((n,n))\n",
    "\n",
    "mat[0] = firstRow\n",
    "#input each row at a time,with each element separated by a space\n",
    "for i in range(1, n):\n",
    "   mat[i] = input().split(\" \")\n",
    "\n",
    "print(mat) "
   ]
  },
  {
   "cell_type": "code",
   "execution_count": 4,
   "metadata": {},
   "outputs": [
    {
     "name": "stderr",
     "output_type": "stream",
     "text": [
      "C:\\Users\\Dergel\\Anaconda3\\lib\\site-packages\\ipykernel_launcher.py:3: ComplexWarning: Casting complex values to real discards the imaginary part\n",
      "  This is separate from the ipykernel package so we can avoid doing imports until\n"
     ]
    },
    {
     "name": "stdout",
     "output_type": "stream",
     "text": [
      "\u001b[1mGiven matrix has such eigenvalues and eigenvectors:\u001b[0m\n",
      "\n",
      "\u001b[1mEigenvalue:\u001b[0m\n",
      "(1.521379706804567+0j)\n",
      "\u001b[1mEigenvector:\u001b[0m\n",
      "[0.61889927 0.53477947 0.40680132 0.40680132]\n",
      "\n",
      "\u001b[1mEigenvalue:\u001b[0m\n",
      "(-0.760689853402284+0.8578736265951789j)\n",
      "\u001b[1mEigenvector:\u001b[0m\n",
      "[-0.05441129  0.69182389 -0.26313171 -0.26313171]\n",
      "\n",
      "\u001b[1mEigenvalue:\u001b[0m\n",
      "(-0.760689853402284-0.8578736265951789j)\n",
      "\u001b[1mEigenvector:\u001b[0m\n",
      "[-0.05441129  0.69182389 -0.26313171 -0.26313171]\n",
      "\n",
      "\u001b[1mEigenvalue:\u001b[0m\n",
      "(3.4863055968420995e-32+0j)\n",
      "\u001b[1mEigenvector:\u001b[0m\n",
      "[-1.09323464e-16  5.77350269e-01 -5.77350269e-01  5.77350269e-01]\n",
      "\n"
     ]
    },
    {
     "data": {
      "image/png": "[encoded data removed]",
      "text/plain": [
       "<Figure size 432x288 with 1 Axes>"
      ]
     },
     "metadata": {},
     "output_type": "display_data"
    }
   ],
   "source": [
    "eigs = np.zeros((len(np.linalg.eig(mat)[1]),len(np.linalg.eig(mat)[1])))\n",
    "for i in range(len(np.linalg.eig(mat)[1])):   \n",
    "    eigs[i] = np.linalg.eig(mat)[1][:,i]\n",
    "\n",
    "print('\\033[1m'+'Given matrix has such eigenvalues and eigenvectors:'+'\\033[0m')\n",
    "print()\n",
    "\n",
    "\n",
    "for i in range(len(np.linalg.eig(mat)[0])):\n",
    "    print ('\\033[1m'+'Eigenvalue:'+'\\033[0m')\n",
    "    print(np.linalg.eig(mat)[0][i])\n",
    "    print ('\\033[1m'+'Eigenvector:'+'\\033[0m')\n",
    "    print(eigs[i])\n",
    "    print()\n",
    "    \n",
    "grafgen(mat)    "
   ]
  },
  {
   "cell_type": "code",
   "execution_count": 10,
   "metadata": {},
   "outputs": [
    {
     "name": "stdout",
     "output_type": "stream",
     "text": [
      "Paths of which length should be found?\n",
      "5\n",
      "(31.56715945386475+0j)\n",
      "\n",
      "Matrix in power 5\n"
     ]
    },
    {
     "data": {
      "text/plain": [
       "array([[4., 1., 3., 2.],\n",
       "       [4., 2., 2., 0.],\n",
       "       [1., 2., 3., 1.],\n",
       "       [1., 2., 3., 1.]])"
      ]
     },
     "execution_count": 10,
     "metadata": {},
     "output_type": "execute_result"
    }
   ],
   "source": [
    "print('Paths of which length should be found?')\n",
    "k = int(input())\n",
    "print(paths(k))\n",
    "print()\n",
    "print('Matrix in power ' + str(k))\n",
    "np.linalg.matrix_power(mat,k)"
   ]
  },
  {
   "cell_type": "code",
   "execution_count": null,
   "metadata": {},
   "outputs": [],
   "source": []
  }
 ],
 "metadata": {
  "kernelspec": {
   "display_name": "Python 3",
   "language": "python",
   "name": "python3"
  },
  "language_info": {
   "codemirror_mode": {
    "name": "ipython",
    "version": 3
   },
   "file_extension": ".py",
   "mimetype": "text/x-python",
   "name": "python",
   "nbconvert_exporter": "python",
   "pygments_lexer": "ipython3",
   "version": "3.7.1"
  }
 },
 "nbformat": 4,
 "nbformat_minor": 2
}
